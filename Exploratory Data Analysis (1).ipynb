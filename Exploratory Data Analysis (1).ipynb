{
 "cells": [
  {
   "cell_type": "markdown",
   "metadata": {},
   "source": [
    "# Explore the dataset\n",
    "\n",
    "\n",
    "In this notebook, we will perform an EDA (Exploratory Data Analysis) on the processed Waymo dataset (data in the `processed` folder). In the first part, you will create a function to display "
   ]
  },
  {
   "cell_type": "code",
   "execution_count": 1,
   "metadata": {},
   "outputs": [],
   "source": [
    "from utils import get_dataset\n",
    "import numpy as np\n",
    "import tensorflow as tf\n",
    "from matplotlib import pyplot as plt\n",
    "from matplotlib.patches import Rectangle"
   ]
  },
  {
   "cell_type": "code",
   "execution_count": 5,
   "metadata": {},
   "outputs": [
    {
     "name": "stdout",
     "output_type": "stream",
     "text": [
      "INFO:tensorflow:Reading unweighted datasets: ['/home/workspace/data/waymo/training_and_validation/*.tfrecord']\n",
      "INFO:tensorflow:Reading record datasets for input file: ['/home/workspace/data/waymo/training_and_validation/*.tfrecord']\n",
      "INFO:tensorflow:Number of filenames to read: 97\n"
     ]
    }
   ],
   "source": [
    "dataset = get_dataset(\"/home/workspace/data/waymo/training_and_validation/*.tfrecord\")"
   ]
  },
  {
   "cell_type": "markdown",
   "metadata": {},
   "source": [
    "## Write a function to display an image and the bounding boxes\n",
    "\n",
    "Implement the `display_instances` function below. This function takes a batch as an input and display an image with its corresponding bounding boxes. The only requirement is that the classes should be color coded (eg, vehicles in red, pedestrians in blue, cyclist in green)."
   ]
  },
  {
   "cell_type": "code",
   "execution_count": 3,
   "metadata": {},
   "outputs": [],
   "source": [
    "def display_instances(tfrecord):\n",
    "    '''This function shows an image from the tfrecord with its\n",
    "       corresponding ground truth bounding boxes and labels.\n",
    "    '''\n",
    "    # Variables\n",
    "    name    = tfrecord['filename']\n",
    "    img     = tfrecord['image'].numpy()\n",
    "    img_shape = img.shape\n",
    "    bboxes   = tfrecord['groundtruth_boxes'].numpy()\n",
    "    classes = tfrecord['groundtruth_classes'].numpy()\n",
    "    \n",
    "    #Display the information of the tfrecord\n",
    "    print('#########################################TFrecord Information#########################################')\n",
    "    print('Name of the TFrecord: {}'.format(tfrecord['filename']))\n",
    "    print('The shape of the image is: {}'.format(img_shape))\n",
    "    print('The are {} boxes in the image:'.format(len(bboxes)))\n",
    "    print('The are {} objects in the image:'.format(len(classes)))\n",
    "    \n",
    "    _, ax = plt.subplots(1,figsize=(20, 10))\n",
    "    # color mapping of classes\n",
    "    colormap = {1: [1, 0, 0], 2: [0, 0, 1], 4: [0, 1, 0]}\n",
    "    \n",
    "    for cl, bb in zip(classes, bboxes):\n",
    "        y1, x1, y2, x2 = bb\n",
    "        y1 = y1*img_shape[0]\n",
    "        x1 = x1*img_shape[1]\n",
    "        y2 = y2*img_shape[0]\n",
    "        x2 = x2*img_shape[1]\n",
    "        rec = Rectangle((x1, y1), x2- x1, y2-y1, facecolor='none', edgecolor=colormap[cl])\n",
    "        ax.add_patch(rec)\n",
    "        \n",
    "    # Plot the image with its corresponding bounding boxes\n",
    "    imgplot = plt.imshow(img)\n",
    "    plt.show()"
   ]
  },
  {
   "cell_type": "markdown",
   "metadata": {},
   "source": [
    "## Display 10 images \n",
    "\n",
    "Using the dataset created in the second cell and the function you just coded, display 10 random images with the associated bounding boxes. You can use the methods `take` and `shuffle` on the dataset."
   ]
  },
  {
   "cell_type": "code",
   "execution_count": 6,
   "metadata": {},
   "outputs": [
    {
     "name": "stdout",
     "output_type": "stream",
     "text": [
      "#########################################TFrecord Information#########################################\n",
      "Name of the TFrecord: b'segment-10072140764565668044_4060_000_4080_000_with_camera_labels_80.tfrecord'\n",
      "The shape of the image is: (640, 640, 3)\n",
      "The are 51 boxes in the image:\n",
      "The are 51 objects in the image:\n",
      "#########################################TFrecord Information#########################################\n",
      "Name of the TFrecord: b'segment-12174529769287588121_3848_440_3868_440_with_camera_labels_180.tfrecord'\n",
      "The shape of the image is: (640, 640, 3)\n",
      "The are 22 boxes in the image:\n",
      "The are 22 objects in the image:\n"
     ]
    },
    {
     "name": "stderr",
     "output_type": "stream",
     "text": [
      "/data/virtual_envs/sdc-c1-gpu-augment/lib/python3.7/site-packages/ipykernel_launcher.py:34: UserWarning: Matplotlib is currently using agg, which is a non-GUI backend, so cannot show the figure.\n"
     ]
    },
    {
     "name": "stdout",
     "output_type": "stream",
     "text": [
      "#########################################TFrecord Information#########################################\n",
      "Name of the TFrecord: b'segment-10235335145367115211_5420_000_5440_000_with_camera_labels_100.tfrecord'\n",
      "The shape of the image is: (640, 640, 3)\n",
      "The are 56 boxes in the image:\n",
      "The are 56 objects in the image:\n",
      "#########################################TFrecord Information#########################################\n",
      "Name of the TFrecord: b'segment-10517728057304349900_3360_000_3380_000_with_camera_labels_150.tfrecord'\n",
      "The shape of the image is: (640, 640, 3)\n",
      "The are 0 boxes in the image:\n",
      "The are 0 objects in the image:\n",
      "#########################################TFrecord Information#########################################\n",
      "Name of the TFrecord: b'segment-11004685739714500220_2300_000_2320_000_with_camera_labels_130.tfrecord'\n",
      "The shape of the image is: (640, 640, 3)\n",
      "The are 2 boxes in the image:\n",
      "The are 2 objects in the image:\n",
      "#########################################TFrecord Information#########################################\n",
      "Name of the TFrecord: b'segment-10498013744573185290_1240_000_1260_000_with_camera_labels_120.tfrecord'\n",
      "The shape of the image is: (640, 640, 3)\n",
      "The are 33 boxes in the image:\n",
      "The are 33 objects in the image:\n",
      "#########################################TFrecord Information#########################################\n",
      "Name of the TFrecord: b'segment-10072140764565668044_4060_000_4080_000_with_camera_labels_0.tfrecord'\n",
      "The shape of the image is: (640, 640, 3)\n",
      "The are 13 boxes in the image:\n",
      "The are 13 objects in the image:\n",
      "#########################################TFrecord Information#########################################\n",
      "Name of the TFrecord: b'segment-11318901554551149504_520_000_540_000_with_camera_labels_130.tfrecord'\n",
      "The shape of the image is: (640, 640, 3)\n",
      "The are 50 boxes in the image:\n",
      "The are 50 objects in the image:\n",
      "#########################################TFrecord Information#########################################\n",
      "Name of the TFrecord: b'segment-10734565072045778791_440_000_460_000_with_camera_labels_130.tfrecord'\n",
      "The shape of the image is: (640, 640, 3)\n",
      "The are 2 boxes in the image:\n",
      "The are 2 objects in the image:\n",
      "#########################################TFrecord Information#########################################\n",
      "Name of the TFrecord: b'segment-10664823084372323928_4360_000_4380_000_with_camera_labels_160.tfrecord'\n",
      "The shape of the image is: (640, 640, 3)\n",
      "The are 36 boxes in the image:\n",
      "The are 36 objects in the image:\n"
     ]
    }
   ],
   "source": [
    "dataset.shuffle(100)\n",
    "for batches in dataset.take(10):\n",
    "    display_instances(batches)"
   ]
  },
  {
   "cell_type": "markdown",
   "metadata": {},
   "source": [
    "## Additional EDA\n",
    "\n",
    "In this last part, you are free to perform any additional analysis of the dataset. What else would like to know about the data?\n",
    "For example, think about data distribution. So far, you have only looked at a single file..."
   ]
  },
  {
   "cell_type": "code",
   "execution_count": null,
   "metadata": {},
   "outputs": [],
   "source": []
  }
 ],
 "metadata": {
  "kernelspec": {
   "display_name": "Python 3",
   "language": "python",
   "name": "python3"
  },
  "language_info": {
   "codemirror_mode": {
    "name": "ipython",
    "version": 3
   },
   "file_extension": ".py",
   "mimetype": "text/x-python",
   "name": "python",
   "nbconvert_exporter": "python",
   "pygments_lexer": "ipython3",
   "version": "3.7.3"
  }
 },
 "nbformat": 4,
 "nbformat_minor": 4
}
